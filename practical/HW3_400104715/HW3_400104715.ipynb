{
 "cells": [
  {
   "cell_type": "markdown",
   "id": "940cca65",
   "metadata": {},
   "source": [
    "<div style=\"direction:rtl;line-height:300%;\">\n",
    "\t<font face=\"XB Zar\" size=5>\n",
    "\t\t<div align=center>\n",
    "\t\t\t<font face=\"IranNastaliq\" size=30>\n",
    "\t\t\t\t<p></p>\n",
    "\t\t\t\t<p></p>\n",
    "به نام خدا\n",
    "\t\t\t\t<p></p>\n",
    "\t\t\t</font>\n",
    "\t\t\t<font color=#FF7500>\n",
    "دانشگاه صنعتی شریف - دانشکده مهندسی کامپیوتر\n",
    "            </font>\n",
    "\t\t\t<p></p>\n",
    "\t\t\t<font color=blue>\n",
    "آمار و احتمال مهندسی\n",
    "            </font>\n",
    "\t\t\t<br />\n",
    "\t\t\t<br />\n",
    "پاییز ۱۴۰۱\n",
    "\t\t</div>\n",
    "\t\t<hr/>\n",
    "\t\t<div align=center>\n",
    "\t\t    <font color=red size=6>\n",
    "\t\t\t    <br />\n",
    "تمرین عملی سری سوم\n",
    "            \t<br/>\n",
    "\t\t\t</font>\n",
    "            نام و نام خانوادگی:\n",
    "            <br/>\n",
    "            شماره دانشجویی:\n",
    "            <br/><br/>\n",
    "            طراحان: آیناز رفیعی، علیرضا حبیب‌زاده\n",
    "\t\t\t<br/>\n",
    "موعد تحویل: ۱۴ آذر \n",
    "                <br/>\n",
    "                همفکری در تمامی تمرین‌های درس توصیه می‌شود. در عین حال از شما انتظار می‌رود تمام پیاده‌سازی را به تنهایی و بدون مشاهده کد دیگران انجام دهید.\n",
    "                <br/><br/>\n",
    "                <font color=red>\n",
    "                لطفا در فایل ارسالی تمام بلوک‌های کد اجرا شده و شامل نمودار‌ها و خروجی‌های لازم باشند.\n",
    "     </font>\n",
    "                <br/>\n",
    "        </style>\n",
    "\t</font>\n",
    "</div>"
   ]
  },
  {
   "cell_type": "markdown",
   "id": "27a9159c",
   "metadata": {},
   "source": [
    "<div dir = \"rtl\" style=\"direction:rtl;line-height:300%;\">\n",
    "\t<font face=\"XB Zar\" size=5>\n",
    "\t\t<font color=#FF7500 size=6>\n",
    "          سوال اول\n",
    "        </font>\n",
    "        <div dir = \"rtl\" style=\"direction:rtl;line-height:300%;\">\n",
    "\t<font face=\"XB Zar\" size=5>\n",
    "                <hr/> \n",
    "       تابعی از یک نمونه از یک متغیر تصادفی uniform بین 0 و 1 به نمونه ای از متغیر تصادفی نمایی بیابید. \n",
    "   </font>\n",
    "</div>\n",
    "    </font>\n",
    "</div>"
   ]
  },
  {
   "cell_type": "markdown",
   "id": "c471491c",
   "metadata": {},
   "source": [
    "<div dir = \"rtl\" style=\"direction:rtl;line-height:300%;\">\n",
    "\t<font face=\"XB Zar\" size=5>\n",
    "پاسخ:\n",
    "        \n",
    "        \n",
    "        \n",
    "        فرض  :  u -> uniform(0,1)\n",
    "        \n",
    "        F1 -> توزیع نجمعی U\n",
    " \n",
    "        F2 -> نوزیع تجمعی متغییر نمایی مطلوب ما \n",
    "        \n",
    "        پس : \n",
    "        \n",
    "        F2(x) = p(X <= x) = 1 - e^(-x) = u\n",
    "                        \n",
    "        -> x = -ln(1-u) \n",
    "        \n",
    "        -> X = -ln(1 - U)\n",
    "</div>\n"
   ]
  },
  {
   "cell_type": "markdown",
   "id": "0e08358c",
   "metadata": {},
   "source": [
    "<div dir = \"rtl\" style=\"direction:rtl;line-height:300%;\">\n",
    "\t<font face=\"XB Zar\" size=5>\n",
    "                <hr/> \n",
    "       50000 نمونه از متغیر تصادفی uniform بین 0 و 1 تولید کرده و تابع بالا را روی آن اعمال کنید. پارامتر توزیع نمایی را دلخواه در نظر بگیرید ولی آن را ذکر کنید. نتیجه را بر روی نمودار نمایش دهید. \n",
    "   </font>\n",
    "</div>\n",
    "    </font>\n",
    "</div>"
   ]
  },
  {
   "cell_type": "code",
   "execution_count": 102,
   "id": "787a27b8",
   "metadata": {},
   "outputs": [
    {
     "name": "stdout",
     "output_type": "stream",
     "text": [
      "[1] 18558\n"
     ]
    },
    {
     "data": {
      "image/png": "[encoded data removed]",
      "text/plain": [
       "Plot with title \"Histogram of y\""
      ]
     },
     "metadata": {
      "image/png": {
       "height": 420,
       "width": 420
      }
     },
     "output_type": "display_data"
    }
   ],
   "source": [
    "#lambda = 1\n",
    "x <- runif(50000, 0 , 1)\n",
    "y <- sapply(x , function(i) -log(1-i))\n",
    "print(length( y[y > 1] ))\n",
    "hist(y , freq = FALSE , prob = TRUE , breaks = 30 , col = \"blue\")"
   ]
  },
  {
   "cell_type": "markdown",
   "id": "3254a295",
   "metadata": {},
   "source": [
    "<div dir = \"rtl\" style=\"direction:rtl;line-height:300%;\">\n",
    "\t<font face=\"XB Zar\" size=5>\n",
    "        <hr/>\n",
    "10000 نمونه از متغیر تصادفی binomial با استفاده از متغیرهای تصادفی از توزیع نمایی که در مرحله‌ی قبل به دست آورده‌اید تولید کرده و بر روی نمودار نمایش دهید.<br/>\n",
    "        پارامترهای توزیع را دلخواه انتخاب کنید ولی آن‌ها را ذکر کنید.\n",
    "    </font>\n",
    "</div>"
   ]
  },
  {
   "cell_type": "code",
   "execution_count": 103,
   "id": "f4553d42",
   "metadata": {},
   "outputs": [
    {
     "data": {
      "image/png": "[encoded data removed]",
      "text/plain": [
       "Plot with title \"Histogram of y\""
      ]
     },
     "metadata": {
      "image/png": {
       "height": 420,
       "width": 420
      }
     },
     "output_type": "display_data"
    }
   ],
   "source": [
    "n = 10000\n",
    "p = 0.4\n",
    "y <- sapply (y ,function(i) qbinom(pexp(i,1),n,p))\n",
    "hist(y , freq = FALSE , prob = TRUE , breaks = 30 , col = \"blue\")"
   ]
  },
  {
   "cell_type": "markdown",
   "id": "c76c355c",
   "metadata": {},
   "source": [
    "<br>\n",
    "<div dir = \"rtl\" style=\"direction:rtl;line-height:300%;\">\n",
    "\t<font face=\"XB Zar\" size=5>\n",
    "\t\t<font color=#FF7500 size=6>\n",
    "            سوال دوم\n",
    "        </font>\n",
    "        <hr/> \n",
    "        <div dir = \"rtl\" style=\"direction:rtl;line-height:200%;\">\n",
    "            در اتاقی یک بلندگو (فرستنده) قرار دارد که سیگنالی ارسال می‌کند\n",
    "        و همچنین سه میکروفون (گیرنده) در فواصل و جاهای مختلف قرار داده شده‌اند که این سیگنال را دریافت می‌کنند.\n",
    "            اطلاعات سیگنال ارسال شده و دریافتی بر حسب زمان در دیتاست \n",
    "data.csv\n",
    "به شما داده شده است. <br>\n",
    "داده‌ها را در یک دیتافریم لود کنید.\n",
    "</div>\n",
    "    </font>\n",
    "</div>"
   ]
  },
  {
   "cell_type": "code",
   "execution_count": 104,
   "id": "9f655c0d",
   "metadata": {},
   "outputs": [
    {
     "data": {
      "text/html": [
       "<table class=\"dataframe\">\n",
       "<caption>A data.frame: 6 × 6</caption>\n",
       "<thead>\n",
       "\t<tr><th></th><th scope=col>X</th><th scope=col>time</th><th scope=col>send</th><th scope=col>receive1</th><th scope=col>receive2</th><th scope=col>receive3</th></tr>\n",
       "\t<tr><th></th><th scope=col>&lt;int&gt;</th><th scope=col>&lt;int&gt;</th><th scope=col>&lt;dbl&gt;</th><th scope=col>&lt;dbl&gt;</th><th scope=col>&lt;dbl&gt;</th><th scope=col>&lt;dbl&gt;</th></tr>\n",
       "</thead>\n",
       "<tbody>\n",
       "\t<tr><th scope=row>396</th><td>396</td><td>1975</td><td>48.43566</td><td>46.65165</td><td>47.63494</td><td>50.19865</td></tr>\n",
       "\t<tr><th scope=row>397</th><td>397</td><td>1980</td><td>48.74667</td><td>46.77738</td><td>48.00830</td><td>50.20030</td></tr>\n",
       "\t<tr><th scope=row>398</th><td>398</td><td>1985</td><td>49.05892</td><td>46.25627</td><td>47.95978</td><td>50.19051</td></tr>\n",
       "\t<tr><th scope=row>399</th><td>399</td><td>1990</td><td>49.37209</td><td>47.31246</td><td>47.83297</td><td>50.03916</td></tr>\n",
       "\t<tr><th scope=row>400</th><td>400</td><td>1995</td><td>49.68589</td><td>47.46225</td><td>48.06766</td><td>50.10046</td></tr>\n",
       "\t<tr><th scope=row>401</th><td>401</td><td>2000</td><td>50.00000</td><td>46.78344</td><td>47.95065</td><td>50.04847</td></tr>\n",
       "</tbody>\n",
       "</table>\n"
      ],
      "text/latex": [
       "A data.frame: 6 × 6\n",
       "\\begin{tabular}{r|llllll}\n",
       "  & X & time & send & receive1 & receive2 & receive3\\\\\n",
       "  & <int> & <int> & <dbl> & <dbl> & <dbl> & <dbl>\\\\\n",
       "\\hline\n",
       "\t396 & 396 & 1975 & 48.43566 & 46.65165 & 47.63494 & 50.19865\\\\\n",
       "\t397 & 397 & 1980 & 48.74667 & 46.77738 & 48.00830 & 50.20030\\\\\n",
       "\t398 & 398 & 1985 & 49.05892 & 46.25627 & 47.95978 & 50.19051\\\\\n",
       "\t399 & 399 & 1990 & 49.37209 & 47.31246 & 47.83297 & 50.03916\\\\\n",
       "\t400 & 400 & 1995 & 49.68589 & 47.46225 & 48.06766 & 50.10046\\\\\n",
       "\t401 & 401 & 2000 & 50.00000 & 46.78344 & 47.95065 & 50.04847\\\\\n",
       "\\end{tabular}\n"
      ],
      "text/markdown": [
       "\n",
       "A data.frame: 6 × 6\n",
       "\n",
       "| <!--/--> | X &lt;int&gt; | time &lt;int&gt; | send &lt;dbl&gt; | receive1 &lt;dbl&gt; | receive2 &lt;dbl&gt; | receive3 &lt;dbl&gt; |\n",
       "|---|---|---|---|---|---|---|\n",
       "| 396 | 396 | 1975 | 48.43566 | 46.65165 | 47.63494 | 50.19865 |\n",
       "| 397 | 397 | 1980 | 48.74667 | 46.77738 | 48.00830 | 50.20030 |\n",
       "| 398 | 398 | 1985 | 49.05892 | 46.25627 | 47.95978 | 50.19051 |\n",
       "| 399 | 399 | 1990 | 49.37209 | 47.31246 | 47.83297 | 50.03916 |\n",
       "| 400 | 400 | 1995 | 49.68589 | 47.46225 | 48.06766 | 50.10046 |\n",
       "| 401 | 401 | 2000 | 50.00000 | 46.78344 | 47.95065 | 50.04847 |\n",
       "\n"
      ],
      "text/plain": [
       "    X   time send     receive1 receive2 receive3\n",
       "396 396 1975 48.43566 46.65165 47.63494 50.19865\n",
       "397 397 1980 48.74667 46.77738 48.00830 50.20030\n",
       "398 398 1985 49.05892 46.25627 47.95978 50.19051\n",
       "399 399 1990 49.37209 47.31246 47.83297 50.03916\n",
       "400 400 1995 49.68589 47.46225 48.06766 50.10046\n",
       "401 401 2000 50.00000 46.78344 47.95065 50.04847"
      ]
     },
     "metadata": {},
     "output_type": "display_data"
    }
   ],
   "source": [
    "temp <- read.csv(\"data.csv\")\n",
    "tail (temp)"
   ]
  },
  {
   "cell_type": "markdown",
   "id": "c9ae1e3c",
   "metadata": {},
   "source": [
    "<div dir = \"rtl\" style=\"direction:rtl;line-height:300%;\">\n",
    "\t<font face=\"XB Zar\" size=5>\n",
    "نمودار اطلاعات فرستنده و سه گیرنده بر حسب زمان را در یک نمودار بکشید.\n",
    "    </font>\n",
    "<div>"
   ]
  },
  {
   "cell_type": "code",
   "execution_count": 105,
   "id": "139e7886",
   "metadata": {
    "scrolled": true
   },
   "outputs": [
    {
     "data": {
      "image/png": "[encoded data removed]",
      "text/plain": [
       "plot without title"
      ]
     },
     "metadata": {
      "image/png": {
       "height": 420,
       "width": 420
      }
     },
     "output_type": "display_data"
    }
   ],
   "source": [
    "library(ggplot2)\n",
    "ggplot(temp) + \n",
    "  geom_point(mapping = aes(x = time, y = send , col = 'Send')) + geom_point(mapping = aes(x = time, y = receive1 , col = 'Recieve1')) +\n",
    "  geom_point(mapping = aes(x = time, y = receive2 , col = 'Receive2')) + geom_point(mapping = aes(x = time, y = receive3 , col = 'Receive3')) +\n",
    "  labs (y = \"send/receive\")"
   ]
  },
  {
   "cell_type": "markdown",
   "id": "1f6d01c7",
   "metadata": {},
   "source": [
    "<div dir = \"rtl\" style=\"direction:rtl;line-height:250%;\">\n",
    "\t<font face=\"XB Zar\" size=5>\n",
    "                <hr/>\n",
    "داده‌های اندازه‌گیری شده به دلیل تفاوت و فاصله‌ی گیرنده‌ها و عوامل محیطی ممکن است دچار تغییراتی شده باشند.\n",
    "به همین منظور لازم است تا داده‌ها را نرمالایز کنیم.\n",
    "یعنی تبدیل خطی‌ای روی آن‌ها اعمال کنیم که توزیع نهایی دارای امید ریاضی صفر و انحراف معیار واحد باشد.\n",
    "$$x' = \\frac{x - \\bar{x}}{\\sigma_x}$$\n",
    "داده‌های نرمالایز شده‌ی فرستنده و سه گیرنده را به دیتافریم اضافه کنید.\n",
    "از این به بعد تنها با داده‌های نرمالایز شده کار خواهیم کرد.\n",
    "    </font>\n",
    "</div>"
   ]
  },
  {
   "cell_type": "code",
   "execution_count": 106,
   "id": "ad205a0f",
   "metadata": {},
   "outputs": [],
   "source": [
    "temp$newSend <-  (temp$send - mean( temp$send )) / sd(temp$send)\n",
    "temp$newReceive1 <-  (temp$receive1 - mean( temp$receive1 )) / sd(temp$receive1)\n",
    "temp$newReceive2 <-  (temp$receive2 - mean( temp$receive2 )) / sd(temp$receive2)\n",
    "temp$newReceive3 <-  (temp$receive3 - mean( temp$receive3 )) / sd(temp$receive3)\n"
   ]
  },
  {
   "cell_type": "markdown",
   "id": "43c8427e",
   "metadata": {},
   "source": [
    "<div dir = \"rtl\" style=\"direction:rtl;line-height:250%;\">\n",
    "\t<font face=\"XB Zar\" size=5>\n",
    "برای اطمینان میانگین و واریانس داده‌های نرمالایز شده را حساب کنید.\n",
    "<br>\n",
    "آیا نتیجه با آنچه انتظار دارید یکسان است؟\n",
    "    </font>\n",
    "</div>"
   ]
  },
  {
   "cell_type": "code",
   "execution_count": 107,
   "id": "bd3dae06",
   "metadata": {},
   "outputs": [
    {
     "data": {
      "text/html": [
       "1"
      ],
      "text/latex": [
       "1"
      ],
      "text/markdown": [
       "1"
      ],
      "text/plain": [
       "[1] 1"
      ]
     },
     "metadata": {},
     "output_type": "display_data"
    },
    {
     "data": {
      "text/html": [
       "-1.01522040681596e-19"
      ],
      "text/latex": [
       "-1.01522040681596e-19"
      ],
      "text/markdown": [
       "-1.01522040681596e-19"
      ],
      "text/plain": [
       "[1] -1.01522e-19"
      ]
     },
     "metadata": {},
     "output_type": "display_data"
    },
    {
     "data": {
      "text/html": [
       "1"
      ],
      "text/latex": [
       "1"
      ],
      "text/markdown": [
       "1"
      ],
      "text/plain": [
       "[1] 1"
      ]
     },
     "metadata": {},
     "output_type": "display_data"
    },
    {
     "data": {
      "text/html": [
       "-7.87934600929913e-16"
      ],
      "text/latex": [
       "-7.87934600929913e-16"
      ],
      "text/markdown": [
       "-7.87934600929913e-16"
      ],
      "text/plain": [
       "[1] -7.879346e-16"
      ]
     },
     "metadata": {},
     "output_type": "display_data"
    },
    {
     "data": {
      "text/html": [
       "1"
      ],
      "text/latex": [
       "1"
      ],
      "text/markdown": [
       "1"
      ],
      "text/plain": [
       "[1] 1"
      ]
     },
     "metadata": {},
     "output_type": "display_data"
    },
    {
     "data": {
      "text/html": [
       "6.64362320352619e-16"
      ],
      "text/latex": [
       "6.64362320352619e-16"
      ],
      "text/markdown": [
       "6.64362320352619e-16"
      ],
      "text/plain": [
       "[1] 6.643623e-16"
      ]
     },
     "metadata": {},
     "output_type": "display_data"
    },
    {
     "data": {
      "text/html": [
       "1"
      ],
      "text/latex": [
       "1"
      ],
      "text/markdown": [
       "1"
      ],
      "text/plain": [
       "[1] 1"
      ]
     },
     "metadata": {},
     "output_type": "display_data"
    },
    {
     "data": {
      "text/html": [
       "2.54277665138419e-15"
      ],
      "text/latex": [
       "2.54277665138419e-15"
      ],
      "text/markdown": [
       "2.54277665138419e-15"
      ],
      "text/plain": [
       "[1] 2.542777e-15"
      ]
     },
     "metadata": {},
     "output_type": "display_data"
    }
   ],
   "source": [
    "var(temp$newSend)\n",
    "mean(temp$newSend)\n",
    "\n",
    "var(temp$newReceive1)\n",
    "mean(temp$newReceive1)\n",
    "\n",
    "var(temp$newReceive2)\n",
    "mean(temp$newReceive2)\n",
    "\n",
    "var(temp$newReceive3)\n",
    "mean(temp$newReceive3)"
   ]
  },
  {
   "cell_type": "raw",
   "id": "cc0d514c",
   "metadata": {},
   "source": [
    "var = 1 -> sd = 1 \n",
    "ولی میانگین دقیقا صفر نمیشود بلکه عددی بسیار نزدیک به صفر میشود !"
   ]
  },
  {
   "cell_type": "markdown",
   "id": "50b3ee5d",
   "metadata": {},
   "source": [
    "<div dir = \"rtl\" style=\"direction:rtl;line-height:250%;\">\n",
    "\t<font face=\"XB Zar\" size=5>\n",
    "داده‌های نرمالایز شده‌ی گیرنده‌ها و فرستنده بر حسب زمان را در یک نمودار نشان دهید.\n",
    "</font>\n",
    "</div>"
   ]
  },
  {
   "cell_type": "code",
   "execution_count": 108,
   "id": "594fd90c",
   "metadata": {},
   "outputs": [
    {
     "data": {
      "image/png": "[encoded data removed]",
      "text/plain": [
       "plot without title"
      ]
     },
     "metadata": {
      "image/png": {
       "height": 420,
       "width": 420
      }
     },
     "output_type": "display_data"
    }
   ],
   "source": [
    "ggplot(temp) + \n",
    "  geom_point(mapping = aes(x = time, y = newSend , col = 'Send')) + geom_point(mapping = aes(x = time, y = newReceive1 , col = 'Recieve1')) +\n",
    "  geom_point(mapping = aes(x = time, y = newReceive2 , col = 'Receive2')) + geom_point(mapping = aes(x = time, y = newReceive3 , col = 'Receive3')) +\n",
    "  labs (y = \"normilized send/receive\")"
   ]
  },
  {
   "cell_type": "markdown",
   "id": "61e9e4a9",
   "metadata": {},
   "source": [
    "<div dir = \"rtl\" style=\"direction:rtl;line-height:250%;\">\n",
    "\t<font face=\"XB Zar\" size=5>\n",
    "توزیع توام داده‌های نرمالایز شده‌ی سه گیرنده با فرستنده را در نمودار یا نمودارهای مناسبی نمایش دهید.\n",
    "<br>\n",
    "<font size=3>\n",
    "(راهنمایی: جواب‌ها همگی نوعی بیضی هستند)\n",
    "</font>\n",
    "<br>\n",
    "توزیع حاشیه‌ای هر کدام از متغیرهای نرمالایز شده‌ی\n",
    "send, \n",
    "receive1, \n",
    "receive2, \n",
    "receive3\n",
    "را به صورت جداگانه یا روی همان توزیع توام نمایش دهید.\n",
    "<br>\n",
    "برای این کار می‌توانید از \n",
    "ggMarginal\n",
    "از کتابخانه‌ی\n",
    "ggExtra\n",
    "استفاده کنید. (یا نکنید)\n",
    "    </font>\n",
    "</div>"
   ]
  },
  {
   "cell_type": "code",
   "execution_count": 109,
   "id": "1f0d92ff",
   "metadata": {},
   "outputs": [
    {
     "data": {
      "image/png": "[encoded data removed]",
      "text/plain": [
       "plot without title"
      ]
     },
     "metadata": {
      "image/png": {
       "height": 420,
       "width": 420
      }
     },
     "output_type": "display_data"
    }
   ],
   "source": [
    "ggplot(temp) + geom_point(aes(x=newSend , y=newReceive1 , col=\"normalized receive1\"))+\n",
    "    geom_point(aes(x=newSend , y=newReceive2 , col=\"normalized receive2\")) +\n",
    "    geom_point(aes(x=newSend , y=newReceive3 , col=\"normalized receive3\")) + \n",
    "    labs (x = \"x\" , y = \"y\")"
   ]
  },
  {
   "cell_type": "markdown",
   "id": "b470140b",
   "metadata": {},
   "source": [
    "<div dir = \"rtl\" style=\"direction:rtl;line-height:250%;\">\n",
    "\t<font face=\"XB Zar\" size=5>\n",
    "        کوواریانس اطلاعات نرمالایز شده‌ی گیرنده‌ها با فرستنده را حساب کنید. (سه مقدار) \n",
    "<br>\n",
    "        مقادیر به دست‌آمده را با توزیع‌های توام که در قسمت قبل کشیدید مقایسه کنید.\n",
    "        <br>\n",
    "        (به کوواریانس بین توزیع‌های نرمالایز شده کوریلیشن نیز می‌گویند که مقداری بین منفی یک و یک است.)\n",
    "</font>\n",
    "</div>"
   ]
  },
  {
   "cell_type": "code",
   "execution_count": 110,
   "id": "8f1b2fc8",
   "metadata": {
    "scrolled": true
   },
   "outputs": [
    {
     "data": {
      "text/html": [
       "0.862830293779743"
      ],
      "text/latex": [
       "0.862830293779743"
      ],
      "text/markdown": [
       "0.862830293779743"
      ],
      "text/plain": [
       "[1] 0.8628303"
      ]
     },
     "metadata": {},
     "output_type": "display_data"
    },
    {
     "data": {
      "text/html": [
       "-0.00724552988960557"
      ],
      "text/latex": [
       "-0.00724552988960557"
      ],
      "text/markdown": [
       "-0.00724552988960557"
      ],
      "text/plain": [
       "[1] -0.00724553"
      ]
     },
     "metadata": {},
     "output_type": "display_data"
    },
    {
     "data": {
      "text/html": [
       "-0.996757405170307"
      ],
      "text/latex": [
       "-0.996757405170307"
      ],
      "text/markdown": [
       "-0.996757405170307"
      ],
      "text/plain": [
       "[1] -0.9967574"
      ]
     },
     "metadata": {},
     "output_type": "display_data"
    },
    {
     "name": "stdout",
     "output_type": "stream",
     "text": [
      "[1] \"کواریانس نمودار اول مثبت ، دوم نزدیک به صفر و سوم منفی است \"\n",
      "[1] \"مقادیر به دست امده با شکل نمودار به دست امده همخوانی دارند\"\n"
     ]
    }
   ],
   "source": [
    "cov(temp$newSend ,temp$newReceive1)\n",
    "cov(temp$newSend ,temp$newReceive2)\n",
    "cov(temp$newSend ,temp$newReceive3)\n",
    "print(\"کواریانس نمودار اول مثبت ، دوم نزدیک به صفر و سوم منفی است \")\n",
    "print(\"مقادیر به دست امده با شکل نمودار به دست امده همخوانی دارند\")"
   ]
  },
  {
   "cell_type": "markdown",
   "id": "be349f2f",
   "metadata": {},
   "source": [
    "<div dir = \"rtl\" style=\"direction:rtl;line-height:250%;\">\n",
    "\t<font face=\"XB Zar\" size=5>\n",
    "        <font size=6>\n",
    "    امتیازی\n",
    "</font>\n",
    "<br>\n",
    "همان‌طور که احتمالا حدس زدید گیرنده‌ها علاوه بر آن که اطلاعات را با مقداری نویز و تضعیف شده دریافت می‌کنند آن را با تاخیر هم می‌بینند.\n",
    "یعنی نمودار داده‌های گیرنده‌ها در مقایسه با داده‌های فرستنده شیفت خورده است.\n",
    "به دلیل نویزی که در اطلاعات وجود دارد هیچوقت نقاط با شیفت دادن دقیقا روی هم قرار نمی‌گیرند.\n",
    "یک روش خوب برای پیدا کردن تاخیر بین این دو موج شیفت دادن یک موج و محاسبه‌ی کوواریانس بین این دو است تا جایی که این کوواریانس بیشینه شود.\n",
    "<br>\n",
    "(اگر نویزی وجود نداشت این مقدار برای داده‌های نرمالایز شده‌ی یک می‌بود چرا که کوواریانس یک متغیر نرمالایز شده با خودش یک است )\n",
    "<br><br>\n",
    "داده‌های گیرنده‌ی اول را به ازای جابه‌جایی‌های مضرب 5 از صفر تا 1000 میکروثانیه (نصف کل بازه‌ی زمانی) به سمت چپ شیفت دهید. سپس داده‌های 1000 میکروثانیه ابتدایی از فرستنده و گیرنده باقی می‌ماند را جدا کنید و کوواریانس این دو را محاسبه کنید.\n",
    "حال نمودار کوواریانس بر حسب شیفت را رسم کنید.\n",
    "<br><br>\n",
    "(راهنمایی:\n",
    "همیشه باید 200\n",
    "داده از میان ستون receive1 نرمالایز شده بردارید\n",
    "و کوواریانس آن را با 200 داده‌ی ابتدایی\n",
    "send نرمالایز شده حساب کنید.)\n",
    "</font>\n",
    "</div>\n",
    "\n",
    "<img src=\"pic1.png\" width=500/>"
   ]
  },
  {
   "cell_type": "code",
   "execution_count": 122,
   "id": "f5c13c7b",
   "metadata": {},
   "outputs": [
    {
     "data": {
      "image/png": "[encoded data removed]",
      "text/plain": [
       "plot without title"
      ]
     },
     "metadata": {
      "image/png": {
       "height": 420,
       "width": 420
      }
     },
     "output_type": "display_data"
    }
   ],
   "source": [
    "COV  <- 0\n",
    "R <- temp$newReceive1\n",
    "S <- temp$newSend[1:200]\n",
    "for(i in 1:( length(R) - 200)){\n",
    "  tmp <- R[1:200]\n",
    "  R <- R[-1]\n",
    "  COV[i] <- cov(S,tmp)\n",
    "}\n",
    "T <- temp$time[ temp$time <=1000]\n",
    "ggplot() + geom_point(aes(x=T , y=COV , col=\"COV\"))"
   ]
  },
  {
   "cell_type": "markdown",
   "id": "b18c7696",
   "metadata": {},
   "source": [
    "<div dir = \"rtl\" style=\"direction:rtl;line-height:250%;\">\n",
    "\t<font face=\"XB Zar\" size=5>\n",
    "شیفتی که در آن بیشترین کوواریانس بین داد‌های گیرنده‌ی شیفت خورده و فرستنده ایجاد می‌شود و کوواریانس بیشینه را پیدا کنید.\n",
    "    </font>\n",
    "</div>"
   ]
  },
  {
   "cell_type": "code",
   "execution_count": 132,
   "id": "279cb967",
   "metadata": {},
   "outputs": [
    {
     "data": {
      "text/html": [
       "1.00202067400854"
      ],
      "text/latex": [
       "1.00202067400854"
      ],
      "text/markdown": [
       "1.00202067400854"
      ],
      "text/plain": [
       "[1] 1.002021"
      ]
     },
     "metadata": {},
     "output_type": "display_data"
    },
    {
     "data": {
      "text/html": [
       "85"
      ],
      "text/latex": [
       "85"
      ],
      "text/markdown": [
       "85"
      ],
      "text/plain": [
       "[1] 85"
      ]
     },
     "metadata": {},
     "output_type": "display_data"
    }
   ],
   "source": [
    "max(COV)\n",
    "T[which.max(COV) + 1]"
   ]
  },
  {
   "cell_type": "markdown",
   "id": "d3aed86a",
   "metadata": {},
   "source": [
    "<div dir = \"rtl\" style=\"direction:rtl;line-height:250%;\">\n",
    "\t<font face=\"XB Zar\" size=5>\n",
    "توزیع توام 1000 میکروثانیه اول گیرنده‌ی شیفت خورده با فرستنده را رسم کنید.\n",
    "</font>\n",
    "</div>"
   ]
  },
  {
   "cell_type": "code",
   "execution_count": null,
   "id": "dbab1888",
   "metadata": {},
   "outputs": [],
   "source": []
  }
 ],
 "metadata": {
  "kernelspec": {
   "display_name": "R",
   "language": "R",
   "name": "ir"
  },
  "language_info": {
   "codemirror_mode": "r",
   "file_extension": ".r",
   "mimetype": "text/x-r-source",
   "name": "R",
   "pygments_lexer": "r",
   "version": "4.2.1"
  }
 },
 "nbformat": 4,
 "nbformat_minor": 5
}
